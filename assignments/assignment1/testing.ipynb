{
 "cells": [
  {
   "cell_type": "code",
   "execution_count": null,
   "metadata": {},
   "outputs": [],
   "source": [
    "import os\n",
    "\n",
    "import sys\n",
    "sys.path.append('..')\n",
    "\n",
    "import cv2\n",
    "\n",
    "import numpy as np\n",
    "\n",
    "from utils.imutils import jimshow as show\n",
    "from utils.imutils import jimshow_channel as show_channel\n",
    "\n",
    "import matplotlib.pyplot as plt"
   ]
  },
  {
   "cell_type": "code",
   "execution_count": null,
   "metadata": {},
   "outputs": [],
   "source": [
    "directory = os.path.join('..',\n",
    "                        '..',\n",
    "                        '..',\n",
    "                        'cds-vis-data',\n",
    "                        'data',\n",
    "                        'img')\n",
    "\n",
    "\n",
    "\n",
    "for filename in os.listdir(directory):\n",
    "    imagePath = os.path.join(directory, filename)\n",
    "    # checking if it is a file\n",
    "    if os.path.isfile(filepath):\n",
    "        imageName = filename.split('.')[0]\n",
    "        image = cv2.imread(imagePath)\n",
    "        #create tuples\n",
    "        channels = cv2.split(image)\n",
    "\n",
    "        #create color tuples\n",
    "        colors = ('green', 'blue', 'red')\n",
    "\n",
    "        i=0\n",
    "        for channel in channels:\n",
    "            hist = cv2.calcHist([channel], [0], None, [255], [0, 256])\n",
    "            plt.plot(hist, color=colors[i])\n",
    "            i+=1\n",
    "        plt.show()\n",
    "        #plt.savefig(f'../histograms/{imageName} histogram.png')"
   ]
  }
 ],
 "metadata": {
  "language_info": {
   "name": "python"
  }
 },
 "nbformat": 4,
 "nbformat_minor": 2
}
